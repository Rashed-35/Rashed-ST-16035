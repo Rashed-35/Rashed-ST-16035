{
  "nbformat": 4,
  "nbformat_minor": 0,
  "metadata": {
    "colab": {
      "provenance": [],
      "authorship_tag": "ABX9TyMw5UAfhFp62g39mOcvp0VJ",
      "include_colab_link": true
    },
    "kernelspec": {
      "name": "python3",
      "display_name": "Python 3"
    },
    "language_info": {
      "name": "python"
    }
  },
  "cells": [
    {
      "cell_type": "markdown",
      "metadata": {
        "id": "view-in-github",
        "colab_type": "text"
      },
      "source": [
        "<a href=\"https://colab.research.google.com/github/Rashed-35/Rashed-ST-16035/blob/main/16_December_Practice.ipynb\" target=\"_parent\"><img src=\"https://colab.research.google.com/assets/colab-badge.svg\" alt=\"Open In Colab\"/></a>"
      ]
    },
    {
      "cell_type": "code",
      "execution_count": null,
      "metadata": {
        "colab": {
          "base_uri": "https://localhost:8080/"
        },
        "id": "ZooBxE6sl8Id",
        "outputId": "260695a4-9ce4-482b-f424-be9e39f9bbd2"
      },
      "outputs": [
        {
          "output_type": "stream",
          "name": "stdout",
          "text": [
            "5\n",
            "John\n"
          ]
        }
      ],
      "source": [
        "x = 5\n",
        "y = \"John\"\n",
        "print(x)\n",
        "print(y)"
      ]
    },
    {
      "cell_type": "code",
      "source": [],
      "metadata": {
        "id": "y8KSA4o22Ei3"
      },
      "execution_count": null,
      "outputs": []
    },
    {
      "cell_type": "code",
      "source": [
        "x = 4       # x is of type int\n",
        "#x = \"Sally\" # x is now of type str\n",
        "print(x)"
      ],
      "metadata": {
        "colab": {
          "base_uri": "https://localhost:8080/"
        },
        "id": "oi0OMdcWmYuw",
        "outputId": "c2b7a3ef-136c-4478-ffda-7dab74426867"
      },
      "execution_count": null,
      "outputs": [
        {
          "output_type": "stream",
          "name": "stdout",
          "text": [
            "4\n"
          ]
        }
      ]
    },
    {
      "cell_type": "code",
      "source": [
        "import sys\n",
        "x, y, z= 1, str(3), b'3'\n",
        "print(x, type(x), sys.getsizeof(x))\n",
        "print(y, type(y), sys.getsizeof(y))\n",
        "print(z, type(z), sys.getsizeof(z))"
      ],
      "metadata": {
        "colab": {
          "base_uri": "https://localhost:8080/"
        },
        "id": "_RUxUi8lwHU1",
        "outputId": "c6631c02-402d-4112-c56f-8a6c098fd7de"
      },
      "execution_count": null,
      "outputs": [
        {
          "output_type": "stream",
          "name": "stdout",
          "text": [
            "1 <class 'int'> 28\n",
            "3 <class 'str'> 50\n",
            "b'3' <class 'bytes'> 34\n"
          ]
        }
      ]
    },
    {
      "cell_type": "code",
      "source": [
        "x=10\n",
        "y=(\"Rashed\")\n",
        "print(f\"{x} {y}\")"
      ],
      "metadata": {
        "colab": {
          "base_uri": "https://localhost:8080/"
        },
        "id": "QmxLTdyc5kMx",
        "outputId": "0f90e441-0a37-4495-fbba-12d9928f2179"
      },
      "execution_count": null,
      "outputs": [
        {
          "output_type": "stream",
          "name": "stdout",
          "text": [
            "10 Rashed\n"
          ]
        }
      ]
    },
    {
      "cell_type": "code",
      "source": [
        "x = \"awesome\"\n",
        "\n",
        "def myfunc():\n",
        "  print(\"Python is \" + x)\n",
        "\n",
        "myfunc()"
      ],
      "metadata": {
        "id": "toPbyIv19CDq",
        "colab": {
          "base_uri": "https://localhost:8080/"
        },
        "outputId": "671fcd99-6b9d-4b97-85fc-e7800bc6c35f"
      },
      "execution_count": 1,
      "outputs": [
        {
          "output_type": "stream",
          "name": "stdout",
          "text": [
            "Python is awesome\n"
          ]
        }
      ]
    },
    {
      "cell_type": "code",
      "source": [
        "x = \"awesome\"\n",
        "\n",
        "def myfunc():\n",
        "  x = \"fantastic\"\n",
        "  print(\"Python is \" + x+\" (Local scope)\")\n",
        "\n",
        "myfunc()\n",
        "\n",
        "print(\"Python is \" + x+\" (Golbal scope)\")"
      ],
      "metadata": {
        "colab": {
          "base_uri": "https://localhost:8080/"
        },
        "id": "aGCVE9K-Lj6O",
        "outputId": "94a0f344-8499-4ded-c308-85f5c9c72e16"
      },
      "execution_count": 2,
      "outputs": [
        {
          "output_type": "stream",
          "name": "stdout",
          "text": [
            "Python is fantastic (Local scope)\n",
            "Python is awesome (Golbal scope)\n"
          ]
        }
      ]
    },
    {
      "cell_type": "code",
      "source": [
        "x = \"Awesome\"\n",
        "\n",
        "def myfunc():\n",
        "  global x\n",
        "  x = \"fantastic\"\n",
        "\n",
        "\n",
        "myfunc()\n",
        "\n",
        "print(\"Python is \" + x)"
      ],
      "metadata": {
        "colab": {
          "base_uri": "https://localhost:8080/"
        },
        "id": "VWz0xjZjLym-",
        "outputId": "9579a456-e380-4b75-9c04-6af5549f4eb3"
      },
      "execution_count": 3,
      "outputs": [
        {
          "output_type": "stream",
          "name": "stdout",
          "text": [
            "Python is fantastic\n"
          ]
        }
      ]
    },
    {
      "cell_type": "code",
      "source": [
        "\n",
        "a = 4j\n",
        "b = complex(3, 5)\n",
        "print(b)\n",
        "#print(type(a))"
      ],
      "metadata": {
        "colab": {
          "base_uri": "https://localhost:8080/"
        },
        "id": "m14qreE9L13Y",
        "outputId": "b0412c44-24bd-4984-890c-775e18bd235a"
      },
      "execution_count": 4,
      "outputs": [
        {
          "output_type": "stream",
          "name": "stdout",
          "text": [
            "(3+5j)\n"
          ]
        }
      ]
    },
    {
      "cell_type": "code",
      "source": [
        "a = range(6)\n",
        "print(type(a))"
      ],
      "metadata": {
        "colab": {
          "base_uri": "https://localhost:8080/"
        },
        "id": "ACQrZZVTL-mb",
        "outputId": "776489c1-22de-4fc0-b7fe-73252fc77758"
      },
      "execution_count": 5,
      "outputs": [
        {
          "output_type": "stream",
          "name": "stdout",
          "text": [
            "<class 'range'>\n"
          ]
        }
      ]
    },
    {
      "cell_type": "code",
      "source": [
        "li = [1, \"MBSTU\", b\"ICT\", True, 2.5, 4j]\n",
        "for i in li:\n",
        "    print(i, type(i))"
      ],
      "metadata": {
        "colab": {
          "base_uri": "https://localhost:8080/"
        },
        "id": "OzM6VLQ0MDZa",
        "outputId": "0489e0ea-a2ab-48b2-c051-db11422c4f7c"
      },
      "execution_count": 8,
      "outputs": [
        {
          "output_type": "stream",
          "name": "stdout",
          "text": [
            "1 <class 'int'>\n",
            "MBSTU <class 'str'>\n",
            "b'ICT' <class 'bytes'>\n",
            "True <class 'bool'>\n",
            "2.5 <class 'float'>\n",
            "4j <class 'complex'>\n"
          ]
        }
      ]
    },
    {
      "cell_type": "code",
      "source": [
        "# prompt: write a code to calculate PI value upto given number\n",
        "\n",
        "import math\n",
        "\n",
        "def calculate_pi(precision):\n",
        "  \"\"\"Calculates the value of PI up to a given precision using the Leibniz formula.\n",
        "\n",
        "  Args:\n",
        "    precision: The number of terms to use in the Leibniz formula.\n",
        "\n",
        "  Returns:\n",
        "    The calculated value of PI.\n",
        "  \"\"\"\n",
        "  pi = 0\n",
        "  for i in range(precision):\n",
        "    pi += (-1)**i / (2*i + 1)\n",
        "  return 4 * pi\n",
        "\n",
        "# Get the desired precision from the user.\n",
        "precision = int(input(\"Enter the desired precision (number of terms): \"))\n",
        "\n",
        "\n",
        "# Calculate and print the value of PI.\n",
        "pi_value = calculate_pi(precision)\n",
        "print(f\"The value of PI (approximated with {precision} terms) is: {pi_value}\")\n",
        "\n",
        "#Compare with the math module's pi\n",
        "print(f\"Math module pi: {math.pi}\")"
      ],
      "metadata": {
        "colab": {
          "base_uri": "https://localhost:8080/"
        },
        "id": "F22qig_jMcZT",
        "outputId": "30fa80b5-e1af-4039-d023-e5338288beb8"
      },
      "execution_count": 9,
      "outputs": [
        {
          "output_type": "stream",
          "name": "stdout",
          "text": [
            "Enter the desired precision (number of terms): 144\n",
            "The value of PI (approximated with 144 terms) is: 3.134648292864797\n",
            "Math module pi: 3.141592653589793\n"
          ]
        }
      ]
    },
    {
      "cell_type": "code",
      "source": [
        "from decimal import Decimal, getcontext\n",
        "\n",
        "def calculate_pi(precision):\n",
        "    # Set the precision for Decimal calculations\n",
        "    getcontext().prec = precision + 2  # Extra precision to ensure rounding accuracy\n",
        "    pi = Decimal(0)\n",
        "    k = 0\n",
        "\n",
        "    # Use the Bailey-Borwein-Plouffe (BBP) formula\n",
        "    while k < precision * 10:  # Increase iterations for higher precision\n",
        "        pi += (Decimal(1) / (16 ** k)) * (\n",
        "            Decimal(4) / (8 * k + 1) -\n",
        "            Decimal(2) / (8 * k + 4) -\n",
        "            Decimal(1) / (8 * k + 5) -\n",
        "            Decimal(1) / (8 * k + 6)\n",
        "        )\n",
        "        k += 1\n",
        "\n",
        "    # Round to the desired number of decimal places\n",
        "    return round(pi, precision)\n",
        "\n",
        "# Input: number of decimal places\n",
        "num_decimal_places = int(input(\"Enter the number of decimal places: \"))\n",
        "pi_value = calculate_pi(num_decimal_places)\n",
        "print(f\"Pi to {num_decimal_places} decimal places: {pi_value}\")"
      ],
      "metadata": {
        "colab": {
          "base_uri": "https://localhost:8080/"
        },
        "id": "mSGkpuZ9MozE",
        "outputId": "2b416d77-177b-4195-a347-cdcd95d26bb0"
      },
      "execution_count": 10,
      "outputs": [
        {
          "output_type": "stream",
          "name": "stdout",
          "text": [
            "Enter the number of decimal places: 144\n",
            "Pi to 144 decimal places: 3.141592653589793238462643383279502884197169399375105820974944592307816406286208998628034825342117067982148086513282306647093844609550582231725359\n"
          ]
        }
      ]
    },
    {
      "cell_type": "code",
      "source": [
        "from decimal import Decimal, getcontext\n",
        "\n",
        "def calculate_pi(precision):\n",
        "    # Set the precision for Decimal calculations\n",
        "    getcontext().prec = precision + 2  # Extra precision to ensure rounding accuracy\n",
        "    pi = Decimal(0)\n",
        "    k = 0\n",
        "\n",
        "    # Use the Bailey-Borwein-Plouffe (BBP) formula\n",
        "    while k < precision * 10:  # Increase iterations for higher precision\n",
        "        pi += (Decimal(1) / (16 ** k)) * (\n",
        "            Decimal(4) / (8 * k + 1) -\n",
        "            Decimal(2) / (8 * k + 4) -\n",
        "            Decimal(1) / (8 * k + 5) -\n",
        "            Decimal(1) / (8 * k + 6)\n",
        "        )\n",
        "        k += 1\n",
        "\n",
        "    # Round to the desired number of decimal places\n",
        "    return round(pi, precision)\n",
        "\n",
        "def sum_of_digits(decimal_str):\n",
        "    # Sum the digits after the decimal point\n",
        "    return sum(int(digit) for digit in decimal_str if digit.isdigit())\n",
        "\n",
        "# Input: number of decimal places\n",
        "num_decimal_places = int(input(\"Enter the number of decimal places: \"))\n",
        "pi_value = calculate_pi(num_decimal_places)\n",
        "\n",
        "# Convert to string to isolate the decimal part\n",
        "pi_str = str(pi_value).split('.')[1]  # Part after the decimal point\n",
        "\n",
        "# Calculate the sum of digits after the decimal point\n",
        "digits_sum = sum_of_digits(pi_str)\n",
        "\n",
        "print(f\"Pi to {num_decimal_places} decimal places: {pi_value}\")\n",
        "print(f\"Sum of the digits after the decimal point: {digits_sum}\")"
      ],
      "metadata": {
        "colab": {
          "base_uri": "https://localhost:8080/"
        },
        "id": "rani2_6pNMSz",
        "outputId": "42d0a3d2-2a35-4e8f-b484-94d222524a6b"
      },
      "execution_count": 11,
      "outputs": [
        {
          "output_type": "stream",
          "name": "stdout",
          "text": [
            "Enter the number of decimal places: 144\n",
            "Pi to 144 decimal places: 3.141592653589793238462643383279502884197169399375105820974944592307816406286208998628034825342117067982148086513282306647093844609550582231725359\n",
            "Sum of the digits after the decimal point: 666\n"
          ]
        }
      ]
    },
    {
      "cell_type": "markdown",
      "source": [
        "Trying to get even ASCII character and its ASCII value in a single line python code with if for loop and list."
      ],
      "metadata": {
        "id": "Oj6CEbXPNU3w"
      }
    },
    {
      "cell_type": "code",
      "source": [
        "[str(c)+\"=\"+chr(c) for c in range(ord('a'), ord('z')+1) if c%2==0]"
      ],
      "metadata": {
        "colab": {
          "base_uri": "https://localhost:8080/"
        },
        "id": "qNmCxym1NYrk",
        "outputId": "79c12a31-96df-451e-9028-21d052c2be18"
      },
      "execution_count": 12,
      "outputs": [
        {
          "output_type": "execute_result",
          "data": {
            "text/plain": [
              "['98=b',\n",
              " '100=d',\n",
              " '102=f',\n",
              " '104=h',\n",
              " '106=j',\n",
              " '108=l',\n",
              " '110=n',\n",
              " '112=p',\n",
              " '114=r',\n",
              " '116=t',\n",
              " '118=v',\n",
              " '120=x',\n",
              " '122=z']"
            ]
          },
          "metadata": {},
          "execution_count": 12
        }
      ]
    },
    {
      "cell_type": "markdown",
      "source": [
        "How byte is more efficient than string"
      ],
      "metadata": {
        "id": "t_6Cu0VgNiu2"
      }
    },
    {
      "cell_type": "code",
      "source": [
        "import sys\n",
        "RAW = \"café\"\n",
        "word_as_bytes = bytes(\"café\", \"utf-8\")\n",
        "print(\"Raw:\"+RAW+\" type=\"+str(type(RAW))+\" Size: \"+str(sys.getsizeof(RAW)))\n",
        "\n",
        "print(f\"Encoded {word_as_bytes}\"+\" type=\"+str(type(word_as_bytes))+\" Size: \"+str(sys.getsizeof(word_as_bytes)))\n",
        ""
      ],
      "metadata": {
        "colab": {
          "base_uri": "https://localhost:8080/"
        },
        "id": "rtD73Ei4Nj5A",
        "outputId": "86b5c7aa-c66e-4645-f8cf-05a01fce2175"
      },
      "execution_count": 13,
      "outputs": [
        {
          "output_type": "stream",
          "name": "stdout",
          "text": [
            "Raw:café type=<class 'str'> Size: 77\n",
            "Encoded b'caf\\xc3\\xa9' type=<class 'bytes'> Size: 38\n"
          ]
        }
      ]
    },
    {
      "cell_type": "markdown",
      "source": [
        "Please do this at home/hall (even if you're homeless.\n",
        "\n",
        "Q. Which value is missing in the following two list, li and li1?"
      ],
      "metadata": {
        "id": "qc7Wr1TnNwXG"
      }
    },
    {
      "cell_type": "code",
      "source": [
        "li = [i for i in range(10)]\n",
        "print(li)\n",
        "li1= li[:2]+li[3:]\n",
        "print(li1)"
      ],
      "metadata": {
        "colab": {
          "base_uri": "https://localhost:8080/"
        },
        "id": "K-qjLIBfNxbZ",
        "outputId": "937da5af-0593-4a7b-fd80-608ffc1bc809"
      },
      "execution_count": 14,
      "outputs": [
        {
          "output_type": "stream",
          "name": "stdout",
          "text": [
            "[0, 1, 2, 3, 4, 5, 6, 7, 8, 9]\n",
            "[0, 1, 3, 4, 5, 6, 7, 8, 9]\n"
          ]
        }
      ]
    },
    {
      "cell_type": "code",
      "source": [
        "li = [i for i in range(10)]  # Create list from 0 to 9\n",
        "print(\"Original list (li):\", li)\n",
        "\n",
        "li1 = li[:2] + li[3:]  # Exclude the element at index 2 (which is 2)\n",
        "print(\"Modified list (li1):\", li1)\n",
        "\n",
        "# Find the missing value\n",
        "missing_value = set(li) - set(li1)\n",
        "print(\"Missing value:\", missing_value)"
      ],
      "metadata": {
        "colab": {
          "base_uri": "https://localhost:8080/"
        },
        "id": "Kkdd0tveUW_D",
        "outputId": "d078bb99-afae-4c71-d431-d0c5d9cf7515"
      },
      "execution_count": 15,
      "outputs": [
        {
          "output_type": "stream",
          "name": "stdout",
          "text": [
            "Original list (li): [0, 1, 2, 3, 4, 5, 6, 7, 8, 9]\n",
            "Modified list (li1): [0, 1, 3, 4, 5, 6, 7, 8, 9]\n",
            "Missing value: {2}\n"
          ]
        }
      ]
    }
  ]
}