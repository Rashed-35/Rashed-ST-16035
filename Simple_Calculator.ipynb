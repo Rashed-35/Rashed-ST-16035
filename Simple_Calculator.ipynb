{
  "nbformat": 4,
  "nbformat_minor": 0,
  "metadata": {
    "colab": {
      "provenance": [],
      "authorship_tag": "ABX9TyP6w/q3KI0tQWYTcVxIEuih",
      "include_colab_link": true
    },
    "kernelspec": {
      "name": "python3",
      "display_name": "Python 3"
    },
    "language_info": {
      "name": "python"
    }
  },
  "cells": [
    {
      "cell_type": "markdown",
      "metadata": {
        "id": "view-in-github",
        "colab_type": "text"
      },
      "source": [
        "<a href=\"https://colab.research.google.com/github/Rashed-35/Rashed-ST-16035/blob/main/Simple_Calculator.ipynb\" target=\"_parent\"><img src=\"https://colab.research.google.com/assets/colab-badge.svg\" alt=\"Open In Colab\"/></a>"
      ]
    },
    {
      "cell_type": "markdown",
      "source": [
        "# New section"
      ],
      "metadata": {
        "id": "lBoG9GWDVFzt"
      }
    },
    {
      "cell_type": "code",
      "source": [
        "import SimCal5 as s"
      ],
      "metadata": {
        "colab": {
          "base_uri": "https://localhost:8080/"
        },
        "id": "yWvRAzzinZc2",
        "outputId": "5629ce5e-8eff-4e57-882c-b9912a850f8b"
      },
      "execution_count": 1,
      "outputs": [
        {
          "name": "stdout",
          "output_type": "stream",
          "text": [
            "Enter 1 to add, \n",
            "2 to subtract, \n",
            "3 to multiply, \n",
            "4 for division, \n",
            "5 for power, \n",
            "6 for modulo, \n",
            "0 to exit\n",
            "Your Choice: 1\n",
            "Enter a: 11\n",
            "Enter b: 22\n",
            "33\n",
            "Enter 1 to add, \n",
            "2 to subtract, \n",
            "3 to multiply, \n",
            "4 for division, \n",
            "5 for power, \n",
            "6 for modulo, \n",
            "0 to exit\n",
            "Your Choice: 2\n",
            "Enter a: 22\n",
            "Enter b: 10\n",
            "12\n",
            "Enter 1 to add, \n",
            "2 to subtract, \n",
            "3 to multiply, \n",
            "4 for division, \n",
            "5 for power, \n",
            "6 for modulo, \n",
            "0 to exit\n",
            "Your Choice: 3\n",
            "Enter a: 15\n",
            "Enter b: 10\n",
            "150\n",
            "Enter 1 to add, \n",
            "2 to subtract, \n",
            "3 to multiply, \n",
            "4 for division, \n",
            "5 for power, \n",
            "6 for modulo, \n",
            "0 to exit\n",
            "Your Choice: 4\n",
            "Enter a: 200\n",
            "Enter b: 500\n",
            "0.4\n",
            "Enter 1 to add, \n",
            "2 to subtract, \n",
            "3 to multiply, \n",
            "4 for division, \n",
            "5 for power, \n",
            "6 for modulo, \n",
            "0 to exit\n",
            "Your Choice: 5\n",
            "Enter a: 5\n",
            "Enter b: 3\n",
            "125\n",
            "Enter 1 to add, \n",
            "2 to subtract, \n",
            "3 to multiply, \n",
            "4 for division, \n",
            "5 for power, \n",
            "6 for modulo, \n",
            "0 to exit\n",
            "Your Choice: 6\n",
            "Enter a: 200\n",
            "Enter b: 120\n",
            "80\n",
            "Enter 1 to add, \n",
            "2 to subtract, \n",
            "3 to multiply, \n",
            "4 for division, \n",
            "5 for power, \n",
            "6 for modulo, \n",
            "0 to exit\n",
            "Your Choice: 0\n"
          ]
        }
      ]
    }
  ]
}