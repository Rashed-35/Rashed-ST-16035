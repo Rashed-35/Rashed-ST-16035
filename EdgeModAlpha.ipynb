{
  "nbformat": 4,
  "nbformat_minor": 0,
  "metadata": {
    "colab": {
      "provenance": [],
      "authorship_tag": "ABX9TyPCEJ2vVlP/4z6Lq0ze0F2B",
      "include_colab_link": true
    },
    "kernelspec": {
      "name": "python3",
      "display_name": "Python 3"
    },
    "language_info": {
      "name": "python"
    }
  },
  "cells": [
    {
      "cell_type": "markdown",
      "metadata": {
        "id": "view-in-github",
        "colab_type": "text"
      },
      "source": [
        "<a href=\"https://colab.research.google.com/github/Rashed-35/Rashed-ST-16035/blob/main/EdgeModAlpha.ipynb\" target=\"_parent\"><img src=\"https://colab.research.google.com/assets/colab-badge.svg\" alt=\"Open In Colab\"/></a>"
      ]
    },
    {
      "cell_type": "code",
      "execution_count": 5,
      "metadata": {
        "id": "sx2jR_u7POxg"
      },
      "outputs": [],
      "source": [
        "import EdgeModAlpha as aa"
      ]
    },
    {
      "cell_type": "code",
      "source": [
        "print(aa.getAlpha(\"a\", \"z\"))"
      ],
      "metadata": {
        "colab": {
          "base_uri": "https://localhost:8080/"
        },
        "id": "lBMJy952Z1Nm",
        "outputId": "6957cf3e-a321-4b5f-ee29-00e84c15c27e"
      },
      "execution_count": 9,
      "outputs": [
        {
          "output_type": "stream",
          "name": "stdout",
          "text": [
            "['a = 97', 'b = 98', 'c = 99', 'd = 100', 'e = 101', 'f = 102', 'g = 103', 'h = 104', 'i = 105', 'j = 106', 'k = 107', 'l = 108', 'm = 109', 'n = 110', 'o = 111', 'p = 112', 'q = 113', 'r = 114', 's = 115', 't = 116', 'u = 117', 'v = 118', 'w = 119', 'x = 120', 'y = 121', 'z = 122']\n"
          ]
        }
      ]
    },
    {
      "cell_type": "code",
      "source": [
        "li = [i for i in range(10)]\n",
        "print(li)\n",
        "li1= li[:2]+li[3:]\n",
        "print(li1)"
      ],
      "metadata": {
        "colab": {
          "base_uri": "https://localhost:8080/"
        },
        "id": "nz5O-nlybK-0",
        "outputId": "8c27a229-acae-4bf9-f158-675d701c8a77"
      },
      "execution_count": 10,
      "outputs": [
        {
          "output_type": "stream",
          "name": "stdout",
          "text": [
            "[0, 1, 2, 3, 4, 5, 6, 7, 8, 9]\n",
            "[0, 1, 3, 4, 5, 6, 7, 8, 9]\n"
          ]
        }
      ]
    },
    {
      "cell_type": "code",
      "source": [
        "li = [i for i in range(10)]\n",
        "print(\"Original list (li):\", li)\n",
        "\n",
        "li1 = li[:2] + li[3:]\n",
        "print(\"Modified list (li1):\", li1)\n",
        "\n",
        "# Find the missing value\n",
        "missing_value = set(li) - set(li1)\n",
        "print(\"Missing value:\", missing_value)"
      ],
      "metadata": {
        "colab": {
          "base_uri": "https://localhost:8080/"
        },
        "id": "C7B12g_fbUdz",
        "outputId": "536acd78-13e0-4b4d-cffd-de19c8248e90"
      },
      "execution_count": 11,
      "outputs": [
        {
          "output_type": "stream",
          "name": "stdout",
          "text": [
            "Original list (li): [0, 1, 2, 3, 4, 5, 6, 7, 8, 9]\n",
            "Modified list (li1): [0, 1, 3, 4, 5, 6, 7, 8, 9]\n",
            "Missing value: {2}\n"
          ]
        }
      ]
    }
  ]
}