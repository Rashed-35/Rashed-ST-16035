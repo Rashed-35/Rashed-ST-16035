{
  "nbformat": 4,
  "nbformat_minor": 0,
  "metadata": {
    "colab": {
      "provenance": [],
      "authorship_tag": "ABX9TyPOPT7LRYfWZxrth8lAInqd",
      "include_colab_link": true
    },
    "kernelspec": {
      "name": "python3",
      "display_name": "Python 3"
    },
    "language_info": {
      "name": "python"
    }
  },
  "cells": [
    {
      "cell_type": "markdown",
      "metadata": {
        "id": "view-in-github",
        "colab_type": "text"
      },
      "source": [
        "<a href=\"https://colab.research.google.com/github/Rashed-35/Rashed-ST-16035/blob/main/File_Handling_(Read%2C_Write%2C_Delete%2C_Update_and_Search).ipynb\" target=\"_parent\"><img src=\"https://colab.research.google.com/assets/colab-badge.svg\" alt=\"Open In Colab\"/></a>"
      ]
    },
    {
      "cell_type": "markdown",
      "source": [
        "**Read a File**"
      ],
      "metadata": {
        "id": "llXWB8oLlfek"
      }
    },
    {
      "cell_type": "code",
      "execution_count": 6,
      "metadata": {
        "colab": {
          "base_uri": "https://localhost:8080/"
        },
        "id": "I7B4XjXVIcTx",
        "outputId": "421f1b70-97bd-449a-fb36-9be76d2cfa09"
      },
      "outputs": [
        {
          "output_type": "stream",
          "name": "stdout",
          "text": [
            "This is EDGE batch 49!\n",
            "Hello!!\n",
            "This is the last line.\n",
            "Hello, this is the first conversation about AI!!\n"
          ]
        }
      ],
      "source": [
        "file = open('/content/python.txt', 'r' )\n",
        "\n",
        "content=file.read()\n",
        "print(content)\n",
        "file.close()"
      ]
    },
    {
      "cell_type": "markdown",
      "source": [
        "**Search any word**"
      ],
      "metadata": {
        "id": "lOAxVMo8lnl6"
      }
    },
    {
      "cell_type": "code",
      "source": [
        "i = input('Enter search word: ')\n",
        "file = open('/content/python.txt', 'r')\n",
        "\n",
        "state = False\n",
        "while True:\n",
        "    x = file.readline()\n",
        "    if not x:  # End of file\n",
        "        break\n",
        "    if i in x:\n",
        "        state = True\n",
        "        break\n",
        "\n",
        "if state:\n",
        "    print('found')\n",
        "else:\n",
        "    print('not found')\n",
        "\n",
        "file.close()\n"
      ],
      "metadata": {
        "colab": {
          "base_uri": "https://localhost:8080/"
        },
        "id": "sQABqPk2Pt3F",
        "outputId": "97dbe57e-92c2-4ab7-9d45-376d43c27af2"
      },
      "execution_count": 12,
      "outputs": [
        {
          "output_type": "stream",
          "name": "stdout",
          "text": [
            "Enter search word: the\n",
            "found\n"
          ]
        }
      ]
    },
    {
      "cell_type": "markdown",
      "source": [
        "**Read the file**"
      ],
      "metadata": {
        "id": "5TUH3NGXly5P"
      }
    },
    {
      "cell_type": "code",
      "source": [
        "with open('python.txt', 'r') as file:\n",
        "    content = file.read()\n",
        "    print(content)\n"
      ],
      "metadata": {
        "colab": {
          "base_uri": "https://localhost:8080/"
        },
        "id": "wX1HIJODkWDT",
        "outputId": "e9086e92-492b-48d9-dc65-da9c7ef4a9ec"
      },
      "execution_count": 14,
      "outputs": [
        {
          "output_type": "stream",
          "name": "stdout",
          "text": [
            "This is EDGE batch 49!\n",
            "Hello!!\n",
            "This is the last line.\n",
            "Hello, this is the first conversation about AI!!\n"
          ]
        }
      ]
    },
    {
      "cell_type": "markdown",
      "source": [
        "**Write to a File**"
      ],
      "metadata": {
        "id": "NcydmkyXl4Rj"
      }
    },
    {
      "cell_type": "code",
      "source": [
        "with open('python.txt', 'w') as file:\n",
        "    file.write(\"Hello, this is a test.\\n\")\n",
        "    file.write(\"Second line.\\n\")\n",
        "\n",
        "with open('python.txt', 'a') as file:\n",
        "    file.write(\"This is an appended line.\\n\")\n"
      ],
      "metadata": {
        "id": "wWZJ-qVfkj1l"
      },
      "execution_count": 15,
      "outputs": []
    },
    {
      "cell_type": "markdown",
      "source": [
        "**Delete a file**"
      ],
      "metadata": {
        "id": "1X7MPQtAmCrd"
      }
    },
    {
      "cell_type": "code",
      "source": [
        "import os\n",
        "\n",
        "file_path = 'python.txt'\n",
        "if os.path.exists(file_path):\n",
        "    os.remove(file_path)\n",
        "    print(f'{file_path} deleted.')\n",
        "else:\n",
        "    print(f'{file_path} not found.')\n"
      ],
      "metadata": {
        "colab": {
          "base_uri": "https://localhost:8080/"
        },
        "id": "RfV5uE8qkv5a",
        "outputId": "1e7227f3-dea7-48c3-a35c-de93a860e408"
      },
      "execution_count": 16,
      "outputs": [
        {
          "output_type": "stream",
          "name": "stdout",
          "text": [
            "python.txt deleted.\n"
          ]
        }
      ]
    },
    {
      "cell_type": "markdown",
      "source": [
        "**Update the file**"
      ],
      "metadata": {
        "id": "A7WPUMdUmHvS"
      }
    },
    {
      "cell_type": "code",
      "source": [
        "\n",
        "with open('python.txt', 'r') as file:\n",
        "    content = file.read()\n",
        "\n",
        "content = content.replace('old_word', 'new_word')\n",
        "\n",
        "with open('python.txt', 'w') as file:\n",
        "    file.write(content)\n"
      ],
      "metadata": {
        "id": "xUFdoihlk8Q4"
      },
      "execution_count": 18,
      "outputs": []
    },
    {
      "cell_type": "markdown",
      "source": [
        "**Search 'test' as any word**"
      ],
      "metadata": {
        "id": "LkG17ez8mQah"
      }
    },
    {
      "cell_type": "code",
      "source": [
        "search_word = 'test'\n",
        "\n",
        "with open('python.txt', 'r') as file:\n",
        "    found = False\n",
        "    for line in file:\n",
        "        if search_word in line:\n",
        "            found = True\n",
        "            break\n",
        "\n",
        "if found:\n",
        "    print(f'Found the word \"{search_word}\".')\n",
        "else:\n",
        "    print(f'The word \"{search_word}\" was not found.')\n"
      ],
      "metadata": {
        "colab": {
          "base_uri": "https://localhost:8080/"
        },
        "id": "U1f7vH9ulSwD",
        "outputId": "23c8ab08-8b64-488c-f6e7-9ed2255bf696"
      },
      "execution_count": 19,
      "outputs": [
        {
          "output_type": "stream",
          "name": "stdout",
          "text": [
            "The word \"test\" was not found.\n"
          ]
        }
      ]
    }
  ]
}