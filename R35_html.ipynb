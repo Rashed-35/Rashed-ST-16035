{
  "nbformat": 4,
  "nbformat_minor": 0,
  "metadata": {
    "colab": {
      "provenance": [],
      "toc_visible": true,
      "authorship_tag": "ABX9TyOcQY6J6mBKmUkNkAFlPC8g",
      "include_colab_link": true
    },
    "kernelspec": {
      "name": "python3",
      "display_name": "Python 3"
    },
    "language_info": {
      "name": "python"
    }
  },
  "cells": [
    {
      "cell_type": "markdown",
      "metadata": {
        "id": "view-in-github",
        "colab_type": "text"
      },
      "source": [
        "<a href=\"https://colab.research.google.com/github/Rashed-35/Rashed-ST-16035/blob/main/R35_html.ipynb\" target=\"_parent\"><img src=\"https://colab.research.google.com/assets/colab-badge.svg\" alt=\"Open In Colab\"/></a>"
      ]
    },
    {
      "cell_type": "code",
      "execution_count": 7,
      "metadata": {
        "colab": {
          "base_uri": "https://localhost:8080/",
          "height": 100
        },
        "id": "PtQAfjTFWQjt",
        "outputId": "11e203f7-553f-40d3-e232-55a4f7c051c3"
      },
      "outputs": [
        {
          "output_type": "display_data",
          "data": {
            "text/plain": [
              "<IPython.core.display.HTML object>"
            ],
            "text/html": [
              "<h1>Hello, World!</h1><p>This is HTML running in Google Colab.</p>"
            ]
          },
          "metadata": {}
        }
      ],
      "source": [
        "from IPython.core.display import display, HTML\n",
        "\n",
        "# Display a simple HTML snippet\n",
        "display(HTML(\"<h1>Hello, World!</h1><p>This is HTML running in Google Colab.</p>\"))"
      ]
    },
    {
      "cell_type": "code",
      "source": [
        "from IPython.core.display import display, HTML\n",
        "\n",
        "html_content = \"\"\"\n",
        "<!DOCTYPE html>\n",
        "<html>\n",
        "<head>\n",
        "<title>Page Title</title>\n",
        "</head>\n",
        "<body>\n",
        "\n",
        "<h1>My First Heading</h1>\n",
        "<p>My first paragraph.</p>\n",
        "\n",
        "</body>\n",
        "</html>\n",
        "\"\"\"\n",
        "\n",
        "display(HTML(html_content))\n"
      ],
      "metadata": {
        "colab": {
          "base_uri": "https://localhost:8080/",
          "height": 100
        },
        "id": "dJ9ZfrrhYqej",
        "outputId": "57206ba9-8801-4195-e380-bcce74bbbe91"
      },
      "execution_count": 11,
      "outputs": [
        {
          "output_type": "display_data",
          "data": {
            "text/plain": [
              "<IPython.core.display.HTML object>"
            ],
            "text/html": [
              "\n",
              "<!DOCTYPE html>\n",
              "<html>\n",
              "<head>\n",
              "<title>Page Title</title>\n",
              "</head>\n",
              "<body>\n",
              "\n",
              "<h1>My First Heading</h1>\n",
              "<p>My first paragraph.</p>\n",
              "\n",
              "</body>\n",
              "</html>\n"
            ]
          },
          "metadata": {}
        }
      ]
    },
    {
      "cell_type": "code",
      "source": [
        "from IPython.core.display import display, HTML\n",
        "\n",
        "html_content = \"\"\"\n",
        "<html>\n",
        "  <header>\n",
        "    <title>Basic Python</title>\n",
        "  </header>\n",
        "  <body>\n",
        "    <div>\n",
        "      <h1>Basic Python</h1>\n",
        "      <h2>Basic Python</h2>\n",
        "      <p>\n",
        "        Python is a high-level, interpreted programming language that is widely\n",
        "        used for various purposes such as web development, scientific computing,\n",
        "        data analysis, artificial intelligence, and more.\n",
        "      </p>\n",
        "    </div>\n",
        "    <div>\n",
        "      <form>\n",
        "        <input type=\"text\" name=\"name\" />\n",
        "        <input type=\"number\" name=\"age\" />\n",
        "        <button>Submit</button>\n",
        "      </form>\n",
        "    </div>\n",
        "    <div>\n",
        "      <ul>\n",
        "        <li>Alice:20</li>\n",
        "        <li>Bob:19</li>\n",
        "      </ul>\n",
        "    </div>\n",
        "    <div>\n",
        "      <ol>\n",
        "        <li>Alice:20</li>\n",
        "        <li>Bob:19</li>\n",
        "      </ol>\n",
        "    </div>\n",
        "  </body>\n",
        "</html>\n",
        "\"\"\"\n",
        "\n",
        "display(HTML(html_content))\n"
      ],
      "metadata": {
        "colab": {
          "base_uri": "https://localhost:8080/",
          "height": 286
        },
        "id": "Ows8KP4hY21j",
        "outputId": "7ffc5cc9-aa75-4726-c423-813d49813a68"
      },
      "execution_count": 12,
      "outputs": [
        {
          "output_type": "display_data",
          "data": {
            "text/plain": [
              "<IPython.core.display.HTML object>"
            ],
            "text/html": [
              "\n",
              "<html>\n",
              "  <header>\n",
              "    <title>Basic Python</title>\n",
              "  </header>\n",
              "  <body>\n",
              "    <div>\n",
              "      <h1>Basic Python</h1>\n",
              "      <h2>Basic Python</h2>\n",
              "      <p>\n",
              "        Python is a high-level, interpreted programming language that is widely\n",
              "        used for various purposes such as web development, scientific computing,\n",
              "        data analysis, artificial intelligence, and more.\n",
              "      </p>\n",
              "    </div>\n",
              "    <div>\n",
              "      <form>\n",
              "        <input type=\"text\" name=\"name\" />\n",
              "        <input type=\"number\" name=\"age\" />\n",
              "        <button>Submit</button>\n",
              "      </form>\n",
              "    </div>\n",
              "    <div>\n",
              "      <ul>\n",
              "        <li>Alice:20</li>\n",
              "        <li>Bob:19</li>\n",
              "      </ul>\n",
              "    </div>\n",
              "    <div>\n",
              "      <ol>\n",
              "        <li>Alice:20</li>\n",
              "        <li>Bob:19</li>\n",
              "      </ol>\n",
              "    </div>\n",
              "  </body>\n",
              "</html>\n"
            ]
          },
          "metadata": {}
        }
      ]
    }
  ]
}